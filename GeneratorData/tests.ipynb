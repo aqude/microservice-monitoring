{
 "cells": [
  {
   "cell_type": "code",
   "id": "initial_id",
   "metadata": {
    "collapsed": true,
    "ExecuteTime": {
     "end_time": "2024-05-31T20:13:48.762643Z",
     "start_time": "2024-05-31T20:13:48.720448Z"
    }
   },
   "source": [
    "import requests\n",
    "from faker import Faker\n",
    "\n",
    "fake = Faker(locale=\"ru_RU\")"
   ],
   "outputs": [],
   "execution_count": 105
  },
  {
   "metadata": {
    "ExecuteTime": {
     "end_time": "2024-05-31T20:13:48.767843Z",
     "start_time": "2024-05-31T20:13:48.764648Z"
    }
   },
   "cell_type": "code",
   "source": "print(fake.address())",
   "id": "a06f71884bba0cd3",
   "outputs": [
    {
     "name": "stdout",
     "output_type": "stream",
     "text": [
      "п. Эльтон, пер. Победы, д. 79 к. 540, 361092\n"
     ]
    }
   ],
   "execution_count": 106
  },
  {
   "metadata": {
    "ExecuteTime": {
     "end_time": "2024-05-31T20:13:48.775834Z",
     "start_time": "2024-05-31T20:13:48.768850Z"
    }
   },
   "cell_type": "code",
   "source": [
    "from dataclasses import dataclass\n",
    "import json\n",
    "@dataclass\n",
    "class Application:\n",
    "    timestamp: str\n",
    "    full_name: str \n",
    "    user_id: str\n",
    "    email: str\n",
    "    phone_number: str\n",
    "    address: str \n",
    "    date_of_birth: str \n",
    "    gender: str \n",
    "    event_type: str\n",
    "    event_description: str \n",
    "    text: str   \n",
    "    \n",
    "response_text = {'timestamp': '1975-02-09T00:46:23', 'full_name': 'Сергеев Панфил Фокич', 'user_id': '993568', 'email': 'arkadi1983@example.com', 'phone_number': '+7 (240) 805-22-07', 'address': 'п. Новосибирск, наб. Тракторная, д. 4/1 стр. 1/6, 413863', 'date_of_birth': '1947-02-07', 'gender': 'мужчина', 'event_type': 'login', 'event_description': 'Потрясти песенка висеть спешить опасность.', 'text': 'Степь расстройство спорт очередной поколение.\\nНабор тысяча ярко природа. Привлекать пропадать рай палата предоставить степь.\\nМелькнуть освобождение житель реклама задрать.'}\n",
    "json_ = json.dumps(response_text)\n",
    "json_ = json.loads(json_)\n",
    "apl = Application(**json_)\n",
    "print(apl)\n"
   ],
   "id": "a99c8a1d3b7fade2",
   "outputs": [
    {
     "name": "stdout",
     "output_type": "stream",
     "text": [
      "Application(timestamp='1975-02-09T00:46:23', full_name='Сергеев Панфил Фокич', user_id='993568', email='arkadi1983@example.com', phone_number='+7 (240) 805-22-07', address='п. Новосибирск, наб. Тракторная, д. 4/1 стр. 1/6, 413863', date_of_birth='1947-02-07', gender='мужчина', event_type='login', event_description='Потрясти песенка висеть спешить опасность.', text='Степь расстройство спорт очередной поколение.\\nНабор тысяча ярко природа. Привлекать пропадать рай палата предоставить степь.\\nМелькнуть освобождение житель реклама задрать.')\n"
     ]
    }
   ],
   "execution_count": 107
  }
 ],
 "metadata": {
  "kernelspec": {
   "display_name": "Python 3",
   "language": "python",
   "name": "python3"
  },
  "language_info": {
   "codemirror_mode": {
    "name": "ipython",
    "version": 2
   },
   "file_extension": ".py",
   "mimetype": "text/x-python",
   "name": "python",
   "nbconvert_exporter": "python",
   "pygments_lexer": "ipython2",
   "version": "2.7.6"
  }
 },
 "nbformat": 4,
 "nbformat_minor": 5
}
